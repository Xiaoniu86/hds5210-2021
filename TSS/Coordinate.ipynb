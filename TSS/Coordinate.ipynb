{
 "cells": [
  {
   "cell_type": "code",
   "execution_count": 16,
   "metadata": {},
   "outputs": [
    {
     "name": "stdout",
     "output_type": "stream",
     "text": [
      "      TC_ID  Chr.wt     start       end Strand.dcp2 Assigned_gene_name  \\\n",
      "1         2    chrI    9327.0    9373.0           +            YAL066W   \n",
      "2         3    chrI   11318.0   11343.0           +          YAL064W-B   \n",
      "12       13    chrI   31108.0   31119.0           +            YAL062W   \n",
      "13       14    chrI   31188.0   31242.0           +            YAL062W   \n",
      "14       15    chrI   31519.0   31569.0           +            YAL062W   \n",
      "...     ...     ...       ...       ...         ...                ...   \n",
      "6954   6972  chrXVI  931061.0  931124.0           +            YPR196W   \n",
      "6955   6973  chrXVI  931309.0  931428.0           +            YPR196W   \n",
      "6958   6976  chrXVI  933979.0  934048.0           +            YPR198W   \n",
      "6966   6984  chrXVI  939847.0  939924.0           +            YPR201W   \n",
      "6969   6987  chrXVI  942757.0  942827.0           +            YPR202W   \n",
      "\n",
      "     in_coding_gene  \n",
      "1               NaN  \n",
      "2               NaN  \n",
      "12              NaN  \n",
      "13              NaN  \n",
      "14              NaN  \n",
      "...             ...  \n",
      "6954            NaN  \n",
      "6955        YPR196W  \n",
      "6958            NaN  \n",
      "6966            NaN  \n",
      "6969            NaN  \n",
      "\n",
      "[3856 rows x 7 columns]\n"
     ]
    }
   ],
   "source": [
    "###TSS_cluster_input\n",
    "\n",
    "import pandas as pd\n",
    "\n",
    "tss=pd.read_csv('./Data/TSS_cluster_coordinates.txt',sep='\\t')\n",
    "tss_sort1=tss.dropna(axis=0,subset = [\"Assigned_gene_name\"])\n",
    "tss_sort2=tss_sort1.dropna(axis=0,subset = [\"start\"])\n",
    "tss_sort=tss_sort2.dropna(axis=0,subset = [\"end\"])\n",
    "tss_sort_pos=tss_sort[tss_sort['Strand.dcp2']=='+']\n",
    "tss_sort_neg=tss_sort[tss_sort['Strand.dcp2']=='-']\n",
    "print(tss_sort_pos)"
   ]
  },
  {
   "cell_type": "code",
   "execution_count": 17,
   "metadata": {},
   "outputs": [
    {
     "data": {
      "text/html": [
       "<div>\n",
       "<style scoped>\n",
       "    .dataframe tbody tr th:only-of-type {\n",
       "        vertical-align: middle;\n",
       "    }\n",
       "\n",
       "    .dataframe tbody tr th {\n",
       "        vertical-align: top;\n",
       "    }\n",
       "\n",
       "    .dataframe thead th {\n",
       "        text-align: right;\n",
       "    }\n",
       "</style>\n",
       "<table border=\"1\" class=\"dataframe\">\n",
       "  <thead>\n",
       "    <tr style=\"text-align: right;\">\n",
       "      <th></th>\n",
       "      <th>start</th>\n",
       "      <th>end</th>\n",
       "    </tr>\n",
       "  </thead>\n",
       "  <tbody>\n",
       "    <tr>\n",
       "      <th>13665</th>\n",
       "      <td>NaN</td>\n",
       "      <td>NaN</td>\n",
       "    </tr>\n",
       "    <tr>\n",
       "      <th>13666</th>\n",
       "      <td>NaN</td>\n",
       "      <td>NaN</td>\n",
       "    </tr>\n",
       "    <tr>\n",
       "      <th>13667</th>\n",
       "      <td>NaN</td>\n",
       "      <td>NaN</td>\n",
       "    </tr>\n",
       "    <tr>\n",
       "      <th>13668</th>\n",
       "      <td>NaN</td>\n",
       "      <td>NaN</td>\n",
       "    </tr>\n",
       "    <tr>\n",
       "      <th>13669</th>\n",
       "      <td>NaN</td>\n",
       "      <td>NaN</td>\n",
       "    </tr>\n",
       "    <tr>\n",
       "      <th>13670</th>\n",
       "      <td>NaN</td>\n",
       "      <td>NaN</td>\n",
       "    </tr>\n",
       "    <tr>\n",
       "      <th>13671</th>\n",
       "      <td>NaN</td>\n",
       "      <td>NaN</td>\n",
       "    </tr>\n",
       "    <tr>\n",
       "      <th>13672</th>\n",
       "      <td>NaN</td>\n",
       "      <td>NaN</td>\n",
       "    </tr>\n",
       "    <tr>\n",
       "      <th>13673</th>\n",
       "      <td>NaN</td>\n",
       "      <td>NaN</td>\n",
       "    </tr>\n",
       "    <tr>\n",
       "      <th>13674</th>\n",
       "      <td>NaN</td>\n",
       "      <td>NaN</td>\n",
       "    </tr>\n",
       "    <tr>\n",
       "      <th>13675</th>\n",
       "      <td>NaN</td>\n",
       "      <td>NaN</td>\n",
       "    </tr>\n",
       "    <tr>\n",
       "      <th>13676</th>\n",
       "      <td>NaN</td>\n",
       "      <td>NaN</td>\n",
       "    </tr>\n",
       "    <tr>\n",
       "      <th>13677</th>\n",
       "      <td>NaN</td>\n",
       "      <td>NaN</td>\n",
       "    </tr>\n",
       "    <tr>\n",
       "      <th>13678</th>\n",
       "      <td>NaN</td>\n",
       "      <td>NaN</td>\n",
       "    </tr>\n",
       "    <tr>\n",
       "      <th>13679</th>\n",
       "      <td>NaN</td>\n",
       "      <td>NaN</td>\n",
       "    </tr>\n",
       "    <tr>\n",
       "      <th>13680</th>\n",
       "      <td>NaN</td>\n",
       "      <td>NaN</td>\n",
       "    </tr>\n",
       "    <tr>\n",
       "      <th>13681</th>\n",
       "      <td>NaN</td>\n",
       "      <td>NaN</td>\n",
       "    </tr>\n",
       "    <tr>\n",
       "      <th>13682</th>\n",
       "      <td>NaN</td>\n",
       "      <td>NaN</td>\n",
       "    </tr>\n",
       "    <tr>\n",
       "      <th>13683</th>\n",
       "      <td>NaN</td>\n",
       "      <td>NaN</td>\n",
       "    </tr>\n",
       "    <tr>\n",
       "      <th>13684</th>\n",
       "      <td>NaN</td>\n",
       "      <td>NaN</td>\n",
       "    </tr>\n",
       "    <tr>\n",
       "      <th>13685</th>\n",
       "      <td>NaN</td>\n",
       "      <td>NaN</td>\n",
       "    </tr>\n",
       "    <tr>\n",
       "      <th>13686</th>\n",
       "      <td>NaN</td>\n",
       "      <td>NaN</td>\n",
       "    </tr>\n",
       "    <tr>\n",
       "      <th>13687</th>\n",
       "      <td>NaN</td>\n",
       "      <td>NaN</td>\n",
       "    </tr>\n",
       "    <tr>\n",
       "      <th>13688</th>\n",
       "      <td>NaN</td>\n",
       "      <td>NaN</td>\n",
       "    </tr>\n",
       "    <tr>\n",
       "      <th>13689</th>\n",
       "      <td>NaN</td>\n",
       "      <td>NaN</td>\n",
       "    </tr>\n",
       "    <tr>\n",
       "      <th>13690</th>\n",
       "      <td>NaN</td>\n",
       "      <td>NaN</td>\n",
       "    </tr>\n",
       "    <tr>\n",
       "      <th>13691</th>\n",
       "      <td>NaN</td>\n",
       "      <td>NaN</td>\n",
       "    </tr>\n",
       "    <tr>\n",
       "      <th>13692</th>\n",
       "      <td>NaN</td>\n",
       "      <td>NaN</td>\n",
       "    </tr>\n",
       "    <tr>\n",
       "      <th>13693</th>\n",
       "      <td>NaN</td>\n",
       "      <td>NaN</td>\n",
       "    </tr>\n",
       "    <tr>\n",
       "      <th>13694</th>\n",
       "      <td>NaN</td>\n",
       "      <td>NaN</td>\n",
       "    </tr>\n",
       "    <tr>\n",
       "      <th>13695</th>\n",
       "      <td>NaN</td>\n",
       "      <td>NaN</td>\n",
       "    </tr>\n",
       "    <tr>\n",
       "      <th>13696</th>\n",
       "      <td>NaN</td>\n",
       "      <td>NaN</td>\n",
       "    </tr>\n",
       "    <tr>\n",
       "      <th>13697</th>\n",
       "      <td>NaN</td>\n",
       "      <td>NaN</td>\n",
       "    </tr>\n",
       "  </tbody>\n",
       "</table>\n",
       "</div>"
      ],
      "text/plain": [
       "       start  end\n",
       "13665    NaN  NaN\n",
       "13666    NaN  NaN\n",
       "13667    NaN  NaN\n",
       "13668    NaN  NaN\n",
       "13669    NaN  NaN\n",
       "13670    NaN  NaN\n",
       "13671    NaN  NaN\n",
       "13672    NaN  NaN\n",
       "13673    NaN  NaN\n",
       "13674    NaN  NaN\n",
       "13675    NaN  NaN\n",
       "13676    NaN  NaN\n",
       "13677    NaN  NaN\n",
       "13678    NaN  NaN\n",
       "13679    NaN  NaN\n",
       "13680    NaN  NaN\n",
       "13681    NaN  NaN\n",
       "13682    NaN  NaN\n",
       "13683    NaN  NaN\n",
       "13684    NaN  NaN\n",
       "13685    NaN  NaN\n",
       "13686    NaN  NaN\n",
       "13687    NaN  NaN\n",
       "13688    NaN  NaN\n",
       "13689    NaN  NaN\n",
       "13690    NaN  NaN\n",
       "13691    NaN  NaN\n",
       "13692    NaN  NaN\n",
       "13693    NaN  NaN\n",
       "13694    NaN  NaN\n",
       "13695    NaN  NaN\n",
       "13696    NaN  NaN\n",
       "13697    NaN  NaN"
      ]
     },
     "execution_count": 17,
     "metadata": {},
     "output_type": "execute_result"
    }
   ],
   "source": [
    "###TSS_cluster_input\n",
    "\n",
    "import pandas as pd\n",
    "\n",
    "tss=pd.read_csv('./Data/TSS_cluster_coordinates.txt',sep='\\t')\n",
    "tss_sort1=tss.dropna(axis=0,subset = [\"Assigned_gene_name\"])\n",
    "tss_sort2=tss_sort1.dropna(axis=0,subset = [\"start\"])\n",
    "tss_sort=tss_sort2.dropna(axis=0,subset = [\"end\"])\n",
    "tss[tss[['start','end']].isnull().T.any()][['start','end']]\n"
   ]
  },
  {
   "cell_type": "code",
   "execution_count": 181,
   "metadata": {},
   "outputs": [],
   "source": [
    "###+strand chromI\n",
    "\n",
    "\n",
    "def positive_singlechr_cap(filename,chrom):\n",
    "    df=pd.read_csv(filename,sep='\\t')\n",
    "    scer=df[(df['strand']=='+')]\n",
    "    scer_chrom=scer[(scer['chr']==chrom)]\n",
    "    tss_chrom=tss_sort_pos[(tss_sort_pos['Chr.wt']==chrom)]\n",
    "    scer_gene=[]\n",
    "    for i,row in tss_chrom.iterrows():\n",
    "        start=row['start']\n",
    "        end=row['end']\n",
    "        for j,row1 in scer_chrom.iterrows():\n",
    "            pos=row1['pos']\n",
    "            if pos>=start and pos<=end:                    \n",
    "                scer_gene.append(row1)\n",
    "    scer_cap=pd.DataFrame.from_dict(scer_gene)\n",
    "    scer_cap.reset_index(inplace=True, drop=True)\n",
    "                \n",
    "    return scer_cap\n"
   ]
  },
  {
   "cell_type": "code",
   "execution_count": 13,
   "metadata": {},
   "outputs": [
    {
     "name": "stdout",
     "output_type": "stream",
     "text": [
      "     chr   pos strand genomeTSS  capped  tags\n",
      "0   chrI  9327      +         A       1    13\n",
      "1   chrI  9340      +         G       1     1\n",
      "2   chrI  9356      +         G       1     1\n",
      "3   chrI  9361      +         A       1     4\n",
      "4   chrI  9362      +         G       1     1\n",
      "5   chrI  9368      +         G       1     2\n",
      "6   chrI  9373      +         G       1     5\n",
      "7   chrI  9331      +         G       0     1\n",
      "8   chrI  9338      +         G       0     1\n",
      "9   chrI  9340      +         G       0     3\n",
      "10  chrI  9356      +         G       0     1\n"
     ]
    }
   ],
   "source": [
    "###scer_WT2 +strand chromI TEST(<4000)\n",
    "\n",
    "def positive_singlechr_cap_test(filename,chrom):\n",
    "    df=pd.read_csv(filename,sep='\\t')\n",
    "    scer=df[(df['strand']=='+')]\n",
    "    scer_chrom=scer[(scer['chr']==chrom)&(scer['pos']<=10000)]\n",
    "    tss_chrom=tss_sort_pos[(tss_sort_pos['Chr.wt']==chrom)&(tss_sort_pos['end']<=10000)]\n",
    "    scer_gene=[]\n",
    "    for i,row in tss_chrom.iterrows():\n",
    "        start=row['start']\n",
    "        end=row['end']\n",
    "        for j,row1 in scer_chrom.iterrows():\n",
    "            pos=row1['pos']\n",
    "            if pos>=start and pos<=end:                    \n",
    "                scer_gene.append(row1)\n",
    "    scer_cap=pd.DataFrame.from_dict(scer_gene)\n",
    "    scer_cap.reset_index(inplace=True, drop=True)\n",
    "                \n",
    "    return scer_cap\n",
    "print(positive_singlechr_cap_test('./Data/Scer.WT.2.tss','chrI'))"
   ]
  },
  {
   "cell_type": "code",
   "execution_count": 20,
   "metadata": {},
   "outputs": [],
   "source": [
    "###Add TC_ID and Asigned gene for single pos chrom\n",
    "def add_ID(filename,chrom):    \n",
    "    df=pd.read_csv(filename)\n",
    "    scer=df[(df['strand']=='+')]\n",
    "    scer_chrom=scer[(scer['chr']==chrom)]\n",
    "    tss_chrom=tss_sort_pos[(tss_sort_pos['Chr.wt']==chrom)]\n",
    "    scer_chrom['ID']=''\n",
    "    scer_chrom['Assigned_gene']=''\n",
    "    for i,row in tss_chrom.iterrows():\n",
    "        ID=row['TC_ID']\n",
    "        start=row['start']\n",
    "        gene=row['Assigned_gene_name']\n",
    "        end=row['end']\n",
    "        for j,row1 in scer_chrom.iterrows():\n",
    "            pos=row1['pos']\n",
    "            if pos>=start and pos<=end:\n",
    "                scer_chrom.loc[j, 'ID'] = ID\n",
    "                scer_chrom.loc[j, 'Assigned_gene']=gene\n",
    "    return scer_chrom\n",
    "\n"
   ]
  },
  {
   "cell_type": "code",
   "execution_count": 10,
   "metadata": {},
   "outputs": [],
   "source": [
    "###Add TC_ID and Asigned gene for single neg chrom\n",
    "def add_ID(filename,chrom):    \n",
    "    df=pd.read_csv(filename)\n",
    "    scer=df[(df['strand']=='-')]\n",
    "    scer_chrom=scer[(scer['chr']==chrom)]\n",
    "    tss_chrom=tss_sort_neg[(tss_sort_neg['Chr.wt']==chrom)]\n",
    "    scer_chrom['ID']=''\n",
    "    scer_chrom['Assigned_gene']=''\n",
    "    for i,row in tss_chrom.iterrows():\n",
    "        ID=row['TC_ID']\n",
    "        start=row['start']\n",
    "        gene=row['Assigned_gene_name']\n",
    "        end=row['end']\n",
    "        for j,row1 in scer_chrom.iterrows():\n",
    "            pos=row1['pos']\n",
    "            if pos>=start and pos<=end:\n",
    "                scer_chrom.loc[j, 'ID'] = ID\n",
    "                scer_chrom.loc[j, 'Assigned_gene']=gene\n",
    "    return scer_chrom"
   ]
  },
  {
   "cell_type": "code",
   "execution_count": 22,
   "metadata": {},
   "outputs": [
    {
     "name": "stderr",
     "output_type": "stream",
     "text": [
      "/opt/tljh/user/lib/python3.6/site-packages/ipykernel_launcher.py:7: SettingWithCopyWarning: \n",
      "A value is trying to be set on a copy of a slice from a DataFrame.\n",
      "Try using .loc[row_indexer,col_indexer] = value instead\n",
      "\n",
      "See the caveats in the documentation: https://pandas.pydata.org/pandas-docs/stable/user_guide/indexing.html#returning-a-view-versus-a-copy\n",
      "  import sys\n",
      "/opt/tljh/user/lib/python3.6/site-packages/ipykernel_launcher.py:8: SettingWithCopyWarning: \n",
      "A value is trying to be set on a copy of a slice from a DataFrame.\n",
      "Try using .loc[row_indexer,col_indexer] = value instead\n",
      "\n",
      "See the caveats in the documentation: https://pandas.pydata.org/pandas-docs/stable/user_guide/indexing.html#returning-a-view-versus-a-copy\n",
      "  \n"
     ]
    }
   ],
   "source": [
    "###Add TC_ID and Asigned gene for all pos/neg chrom\n",
    "def positive_addid(filename):\n",
    "    df=pd.read_csv(filename)\n",
    "    all=[add_ID(filename,'chrI'),add_ID(filename,'chrII'),add_ID(filename,'chrIII'),\n",
    "        add_ID(filename,'chrIV'),add_ID(filename,'chrIX'),add_ID(filename,'chrM'),\n",
    "        add_ID(filename,'chrV'),add_ID(filename,'chrVI'),add_ID(filename,'chrVII'),\n",
    "        add_ID(filename,'chrVIII'),add_ID(filename,'chrX'),add_ID(filename,'chrXI'),\n",
    "        add_ID(filename,'chrXII'),add_ID(filename,'chrXIII'),add_ID(filename,'chrXIV'),\n",
    "        add_ID(filename,'chrXV'),add_ID(filename,'chrXVI')]\n",
    "    addid=pd.concat(all)\n",
    "    addid.reset_index(inplace=True, drop=True)\n",
    "    return addid\n",
    "\n",
    "wt1_id=positive_addid('./Data/list/combine/dcp2_2.csv')\n",
    "outputpath='./Data/list/combine/ID/p_dcp2_2_id.csv'\n",
    "wt1_id.to_csv(outputpath,sep=',',index=False,header=True)"
   ]
  },
  {
   "cell_type": "code",
   "execution_count": 133,
   "metadata": {},
   "outputs": [],
   "source": [
    "### sample1&2 cluster capping rate1\n",
    "import csv\n",
    "\n",
    "wt1=pd.read_csv('./Data/list/combine/wt1_id.csv')\n",
    "wt2=pd.read_csv('./Data/list/combine/wt2_id.csv')\n",
    "grouped=wt1.groupby(by='ID')\n",
    "cap=0\n",
    "uncap=0\n",
    "l=[]\n",
    "fo = open(\"./Data/list/combine/de_test.csv\", \"w\")\n",
    "writer = csv.writer(fo)\n",
    "for name,group in grouped:\n",
    "    for i,row in group.iterrows():\n",
    "        capped=row['capped']\n",
    "        tag=row['tags']\n",
    "        if capped==1:\n",
    "            cap+=tag\n",
    "        else:\n",
    "            uncap+=tag\n",
    "        capping_rate=cap/(cap+uncap)\n",
    "    l=[name,capping_rate,0]\n",
    "    writer.writerow(l)\n"
   ]
  },
  {
   "cell_type": "code",
   "execution_count": 3,
   "metadata": {},
   "outputs": [],
   "source": [
    "### sample1&2 cluster capping rate2\n",
    "import csv\n",
    "import pandas as pd\n",
    "wt2=pd.read_csv('./Data/list/combine/wt2_id.csv')\n",
    "grouped=wt2.groupby(by='ID')\n",
    "cap=0\n",
    "uncap=0\n",
    "l=[]\n",
    "fo = open(\"./Data/list/combine/de_test2.csv\", \"w\")\n",
    "writer = csv.writer(fo)\n",
    "for name,group in grouped:\n",
    "    for i,row in group.iterrows():\n",
    "        capped=row['capped']\n",
    "        tag=row['tags']\n",
    "        if capped==1:\n",
    "            cap+=tag\n",
    "        else:\n",
    "            uncap+=tag\n",
    "        capping_rate=cap/(cap+uncap)\n",
    "    l=[name,0,capping_rate]\n",
    "    writer.writerow(l)"
   ]
  },
  {
   "cell_type": "code",
   "execution_count": 12,
   "metadata": {},
   "outputs": [],
   "source": [
    "###Add heading\n",
    "import pandas as pd \n",
    "import numpy as np \n",
    "data=pd.read_csv(r'./Data/list/combine/de_test2.csv',header=None,names=['ID','s1','s2'])\n",
    "data.to_csv('./Data/sample_comp/wt2.csv',index=False)"
   ]
  },
  {
   "cell_type": "code",
   "execution_count": 34,
   "metadata": {},
   "outputs": [
    {
     "name": "stderr",
     "output_type": "stream",
     "text": [
      "/opt/tljh/user/lib/python3.6/site-packages/ipykernel_launcher.py:6: SettingWithCopyWarning: \n",
      "A value is trying to be set on a copy of a slice from a DataFrame.\n",
      "Try using .loc[row_indexer,col_indexer] = value instead\n",
      "\n",
      "See the caveats in the documentation: https://pandas.pydata.org/pandas-docs/stable/user_guide/indexing.html#returning-a-view-versus-a-copy\n",
      "  \n"
     ]
    }
   ],
   "source": [
    "###combine two samples\n",
    "s1=pd.read_csv('./Data/sample_comp/wt1.csv')\n",
    "s2=pd.read_csv('./Data/sample_comp/wt2.csv')\n",
    "s1_test=s1.head(100)\n",
    "s2_test=s2.head(100)\n",
    "s1_test['s2.a']=''\n",
    "l=[]\n",
    "\n",
    "for i,row1 in s1_test.iterrows():\n",
    "    ID1=row1['ID']\n",
    "    c1=row1['s1']\n",
    "    for j,row2 in s2_test.iterrows():\n",
    "        ID2=row2['ID']\n",
    "        c2=row2['s2']\n",
    "    if ID1==ID2:\n",
    "        print(yes)\n",
    "\n",
    "\n",
    "            "
   ]
  },
  {
   "cell_type": "code",
   "execution_count": 36,
   "metadata": {},
   "outputs": [
    {
     "ename": "ModuleNotFoundError",
     "evalue": "No module named 'read_gene_expression'",
     "output_type": "error",
     "traceback": [
      "\u001b[0;31m---------------------------------------------------------------------------\u001b[0m",
      "\u001b[0;31mModuleNotFoundError\u001b[0m                       Traceback (most recent call last)",
      "\u001b[0;32m<ipython-input-36-7d7e12898352>\u001b[0m in \u001b[0;36m<module>\u001b[0;34m\u001b[0m\n\u001b[1;32m      1\u001b[0m \u001b[0;32mimport\u001b[0m \u001b[0mgzip\u001b[0m\u001b[0;34m\u001b[0m\u001b[0;34m\u001b[0m\u001b[0m\n\u001b[1;32m      2\u001b[0m \u001b[0;32mimport\u001b[0m \u001b[0mnumpy\u001b[0m \u001b[0;32mas\u001b[0m \u001b[0mnp\u001b[0m\u001b[0;34m\u001b[0m\u001b[0;34m\u001b[0m\u001b[0m\n\u001b[0;32m----> 3\u001b[0;31m \u001b[0;32mfrom\u001b[0m \u001b[0mread_gene_expression\u001b[0m \u001b[0;32mimport\u001b[0m \u001b[0mX\u001b[0m\u001b[0;34m,\u001b[0m\u001b[0mGID\u001b[0m\u001b[0;34m,\u001b[0m\u001b[0mSTP\u001b[0m\u001b[0;34m,\u001b[0m\u001b[0mSID\u001b[0m\u001b[0;34m,\u001b[0m\u001b[0mUC\u001b[0m\u001b[0;34m,\u001b[0m\u001b[0mCD\u001b[0m\u001b[0;34m\u001b[0m\u001b[0;34m\u001b[0m\u001b[0m\n\u001b[0m",
      "\u001b[0;31mModuleNotFoundError\u001b[0m: No module named 'read_gene_expression'"
     ]
    }
   ],
   "source": [
    "import gzip\n",
    "import numpy as np\n",
    "from read_gene_expression import X,GID,STP,SID,UC,CD\n"
   ]
  },
  {
   "cell_type": "code",
   "execution_count": null,
   "metadata": {},
   "outputs": [],
   "source": [
    "de = pd.read_csv('./Data/list/combine/de_test.csv', header=None)\n",
    "de.columns = ['ID','s1','s2']\n",
    "wt2=pd.read_csv('./Data/list/combine/wt2_id.csv')\n",
    "grouped=wt2.groupby(by='ID')\n",
    "cap=0\n",
    "uncap=0\n",
    "\n",
    "\n",
    "for i,row in de.iterrows():\n",
    "    ID=row['ID']\n",
    "    for name,group in grouped:\n",
    "        if name==ID: \n",
    "            for j,row1 in group.iterrows():\n",
    "                capped=row1['capped']\n",
    "                tag=row1['tags']\n",
    "                if capped==1:\n",
    "                    cap+=tag\n",
    "                else:\n",
    "                    uncap+=tag\n",
    "                capping_rate=cap/(cap+uncap)\n",
    "            de.loc[i, 's2'] = capping_rate\n",
    "de.head()"
   ]
  },
  {
   "cell_type": "code",
   "execution_count": null,
   "metadata": {},
   "outputs": [],
   "source": [
    "wt2=pd.read_csv('./Data/list/combine/wt2_id.csv')\n",
    "grouped=wt2.groupby(by='ID')\n",
    "cap=0\n",
    "uncap=0\n",
    "\n",
    "fo = open(\"./Data/list/combine/de_test.csv\", \"w\")\n",
    "writer = csv.writer(fo)\n",
    "for name,group in grouped:\n",
    "    \n",
    "    for i,row in group.iterrows():\n",
    "        capped=row['capped']\n",
    "        tag=row['tags']\n",
    "        if capped==1:\n",
    "            cap+=tag\n",
    "        else:\n",
    "            uncap+=tag\n",
    "        capping_rate=cap/(cap+uncap)\n",
    "    l=[name,capping_rate]\n",
    "    writer.writerow(l)"
   ]
  },
  {
   "cell_type": "code",
   "execution_count": 175,
   "metadata": {},
   "outputs": [],
   "source": [
    "###scer_WT2 +strand all\n",
    "\n",
    "def positive_cap(filename):\n",
    "    df=pd.read_csv(filename,sep='\\t')\n",
    "    all=[positive_singlechr_cap(filename,'chrI'),positive_singlechr_cap(filename,'chrII'),positive_singlechr_cap(filename,'chrIII'),\n",
    "        positive_singlechr_cap(filename,'chrIV'),positive_singlechr_cap(filename,'chrIX'),positive_singlechr_cap(filename,'chrM'),\n",
    "        positive_singlechr_cap(filename,'chrV'),positive_singlechr_cap(filename,'chrVI'),positive_singlechr_cap(filename,'chrVII'),\n",
    "        positive_singlechr_cap(filename,'chrVIII'),positive_singlechr_cap(filename,'chrX'),positive_singlechr_cap(filename,'chrXI'),\n",
    "        positive_singlechr_cap(filename,'chrXII'),positive_singlechr_cap(filename,'chrXIII'),positive_singlechr_cap(filename,'chrXIV'),\n",
    "        positive_singlechr_cap(filename,'chrXV'),positive_singlechr_cap(filename,'chrXVI')]\n",
    "    cap=pd.concat(all)\n",
    "    cap.reset_index(inplace=True, drop=True)\n",
    "    return cap\n"
   ]
  },
  {
   "cell_type": "code",
   "execution_count": 205,
   "metadata": {},
   "outputs": [],
   "source": [
    "###scer_WT2 +strand all TEST(<4000)\n",
    "\n",
    "def positive_cap_test(filename):\n",
    "    df=pd.read_csv(filename,sep='\\t')\n",
    "    all=[positive_singlechr_cap_test(filename,'chrI'),positive_singlechr_cap_test(filename,'chrII'),positive_singlechr_cap_test(filename,'chrIII'),\n",
    "        positive_singlechr_cap_test(filename,'chrIV'),positive_singlechr_cap_test(filename,'chrIX'),positive_singlechr_cap_test(filename,'chrM'),\n",
    "        positive_singlechr_cap_test(filename,'chrV'),positive_singlechr_cap_test(filename,'chrVI'),positive_singlechr_cap_test(filename,'chrVII'),\n",
    "        positive_singlechr_cap_test(filename,'chrVIII'),positive_singlechr_cap_test(filename,'chrX'),positive_singlechr_cap_test(filename,'chrXI'),\n",
    "        positive_singlechr_cap_test(filename,'chrXII'),positive_singlechr_cap_test(filename,'chrXIII'),positive_singlechr_cap_test(filename,'chrXIV'),\n",
    "        positive_singlechr_cap_test(filename,'chrXV'),positive_singlechr_cap_test(filename,'chrXVI')]\n",
    "    cap=pd.concat(all)\n",
    "    cap.reset_index(inplace=True, drop=True)\n",
    "    return cap\n",
    "dcp2_1=positive_cap_test('./Data/Scer.dcp2.1.tss')\n",
    "outputpath='./Data/test.csv'\n",
    "dcp2_1.to_csv(outputpath,sep=',',index=False,header=False)"
   ]
  },
  {
   "cell_type": "code",
   "execution_count": 178,
   "metadata": {},
   "outputs": [],
   "source": [
    "###scer_WT2 +strand cap counting\n",
    "\n",
    "def capping_rate(filename):\n",
    "    df=pd.read_csv(filename,sep='\\t')\n",
    "    cap=0\n",
    "    uncap=0\n",
    "    for i,row in positive_cap(filename).iterrows():\n",
    "        capped=row['capped']\n",
    "        tag=row['tags']\n",
    "        if capped==1:\n",
    "            cap+=tag\n",
    "        else:\n",
    "            uncap+=tag\n",
    "    capping_rate=cap/(cap+uncap)\n",
    "    return capping_rate\n"
   ]
  },
  {
   "cell_type": "code",
   "execution_count": 186,
   "metadata": {},
   "outputs": [
    {
     "data": {
      "text/plain": [
       "0.8435171385991058"
      ]
     },
     "execution_count": 186,
     "metadata": {},
     "output_type": "execute_result"
    }
   ],
   "source": [
    "###scer_WT2 +strand cap counting TEST(<4000)\n",
    "\n",
    "def capping_rate_test(filename):\n",
    "    df=pd.read_csv(filename,sep='\\t')\n",
    "    cap=0\n",
    "    uncap=0\n",
    "    for i,row in positive_cap_test(filename).iterrows():\n",
    "        capped=row['capped']\n",
    "        tag=row['tags']\n",
    "        if capped==1:\n",
    "            cap+=tag\n",
    "        else:\n",
    "            uncap+=tag\n",
    "    capping_rate=cap/(cap+uncap)\n",
    "    return capping_rate\n",
    "\n",
    "capping_rate_test('./Data/Scer.WT.2.tss')"
   ]
  },
  {
   "cell_type": "code",
   "execution_count": null,
   "metadata": {},
   "outputs": [],
   "source": [
    "###+strand Bar plot \n",
    "import matplotlib.pyplot as plt\n",
    "wt2=capping_rate('./Data/Scer.WT.2.tss')\n",
    "wt1=capping_rate('./Data/Scer.WT.1.tss')\n",
    "dcp2_1=capping_rate('./Data/Scer.dcp2.1.tss')\n",
    "dcp2_2=capping_rate('./Data/Scer.dcp2.2.tss')\n",
    "dcp2=capping_rate('./Data/Scer.dcp2.tss')\n",
    "dhh1_1=capping_rate('./Data/Scer.dhh1.1.tss')\n",
    "dhh1_2=capping_rate('./Data/Scer.dhh1.2.tss')\n",
    "dhh1=capping_rate('./Data/Scer.dhh1.tss')\n",
    "pat1_1=capping_rate('./Data/Scer.pat1.1.tss')\n",
    "pat1_2=capping_rate('./Data/Scer.pat1.2.tss')\n",
    "pat1=capping_rate('./Data/Scer.pat1.tss')\n",
    "xrn1_1=capping_rate('./Data/Scer.xrn1.1.tss')\n",
    "xrn1_2=capping_rate('./Data/Scer.xrn1.2.tss')\n",
    "xrn1=capping_rate('./Data/Scer.xrn1.tss')\n",
    "\n",
    "fig = plt.figure()\n",
    "ax = fig.add_axes([0,0,1,1])\n",
    "mutation = ['wt1', 'wt2','dcp2','dcp2_1','dcp2_2','dhh1','dhh1_1','dhh1_2','pat1','pat1_1','pat1_2','xrn1','xrn1_1','xrn1_2']\n",
    "rate = [wt1,wt2,dcp2,dcp2_1,dcp2_2,dhh1,dhh1_1,dhh1_2,pat1,pat1_1,pat1_2,xrn1,xrn1_1,xrn1_2]\n",
    "ax.bar(mutation,rate)\n",
    "plt.show()"
   ]
  },
  {
   "cell_type": "code",
   "execution_count": 187,
   "metadata": {},
   "outputs": [
    {
     "data": {
      "image/png": "[encoded data removed]",
      "text/plain": [
       "<Figure size 432x288 with 1 Axes>"
      ]
     },
     "metadata": {
      "needs_background": "light"
     },
     "output_type": "display_data"
    }
   ],
   "source": [
    "###+strand Bar plot Test(<4000)\n",
    "import matplotlib.pyplot as plt\n",
    "wt2=capping_rate_test('./Data/Scer.WT.2.tss')\n",
    "wt1=capping_rate_test('./Data/Scer.WT.1.tss')\n",
    "dcp2_1=capping_rate_test('./Data/Scer.dcp2.1.tss')\n",
    "dcp2_2=capping_rate_test('./Data/Scer.dcp2.2.tss')\n",
    "dcp2=capping_rate_test('./Data/Scer.dcp2.tss')\n",
    "dhh1_1=capping_rate_test('./Data/Scer.dhh1.1.tss')\n",
    "dhh1_2=capping_rate_test('./Data/Scer.dhh1.2.tss')\n",
    "dhh1=capping_rate_test('./Data/Scer.dhh1.tss')\n",
    "pat1_1=capping_rate_test('./Data/Scer.pat1.1.tss')\n",
    "pat1_2=capping_rate_test('./Data/Scer.pat1.2.tss')\n",
    "pat1=capping_rate_test('./Data/Scer.pat1.tss')\n",
    "xrn1_1=capping_rate_test('./Data/Scer.xrn1.1.tss')\n",
    "xrn1_2=capping_rate_test('./Data/Scer.xrn1.2.tss')\n",
    "xrn1=capping_rate_test('./Data/Scer.xrn1.tss')\n",
    "\n",
    "fig = plt.figure()\n",
    "ax = fig.add_axes([0,0,1,1])\n",
    "mutation = ['wt1', 'wt2','dcp2','dcp2_1','dcp2_2','dhh1','dhh1_1','dhh1_2','pat1','pat1_1','pat1_2','xrn1','xrn1_1','xrn1_2']\n",
    "rate = [wt1,wt2,dcp2,dcp2_1,dcp2_2,dhh1,dhh1_1,dhh1_2,pat1,pat1_1,pat1_2,xrn1,xrn1_1,xrn1_2]\n",
    "ax.bar(mutation,rate)\n",
    "plt.show()"
   ]
  },
  {
   "cell_type": "code",
   "execution_count": 177,
   "metadata": {},
   "outputs": [
    {
     "data": {
      "image/png": "[encoded data removed]",
      "text/plain": [
       "<Figure size 432x288 with 1 Axes>"
      ]
     },
     "metadata": {
      "needs_background": "light"
     },
     "output_type": "display_data"
    }
   ],
   "source": [
    "###bar plot_data from linux\n",
    "import matplotlib.pyplot as plt\n",
    "wt2=0.7052\n",
    "wt1=0.7122\n",
    "dcp2_1=0.5844\n",
    "dcp2_2=0.5377\n",
    "dcp2=0.5612\n",
    "dhh1_1=0.5043\n",
    "dhh1_2=0.4010\n",
    "dhh1=0.4509\n",
    "pat1_1=0.5330\n",
    "pat1_2=0.5660\n",
    "pat1=0.5499\n",
    "xrn1_1=0.6560\n",
    "xrn1_2=0.6336\n",
    "xrn1=0.6446\n",
    "\n",
    "fig = plt.figure()\n",
    "ax = fig.add_axes([0,0,1,1])\n",
    "mutation = ['wt1', 'wt2','dcp2','dcp2_1','dcp2_2','dhh1','dhh1_1','dhh1_2','pat1','pat1_1','pat1_2','xrn1','xrn1_1','xrn1_2']\n",
    "rate = [wt1,wt2,dcp2,dcp2_1,dcp2_2,dhh1,dhh1_1,dhh1_2,pat1,pat1_1,pat1_2,xrn1,xrn1_1,xrn1_2]\n",
    "ax.bar(mutation,rate)\n",
    "plt.show()"
   ]
  },
  {
   "cell_type": "code",
   "execution_count": 216,
   "metadata": {},
   "outputs": [
    {
     "data": {
      "text/html": [
       "<div>\n",
       "<style scoped>\n",
       "    .dataframe tbody tr th:only-of-type {\n",
       "        vertical-align: middle;\n",
       "    }\n",
       "\n",
       "    .dataframe tbody tr th {\n",
       "        vertical-align: top;\n",
       "    }\n",
       "\n",
       "    .dataframe thead th {\n",
       "        text-align: right;\n",
       "    }\n",
       "</style>\n",
       "<table border=\"1\" class=\"dataframe\">\n",
       "  <thead>\n",
       "    <tr style=\"text-align: right;\">\n",
       "      <th></th>\n",
       "      <th>chr</th>\n",
       "      <th>pos</th>\n",
       "      <th>strand</th>\n",
       "      <th>genomeTSS</th>\n",
       "      <th>capped</th>\n",
       "      <th>tags</th>\n",
       "    </tr>\n",
       "  </thead>\n",
       "  <tbody>\n",
       "    <tr>\n",
       "      <th>0</th>\n",
       "      <td>chrI</td>\n",
       "      <td>9340</td>\n",
       "      <td>+</td>\n",
       "      <td>G</td>\n",
       "      <td>1</td>\n",
       "      <td>1</td>\n",
       "    </tr>\n",
       "    <tr>\n",
       "      <th>1</th>\n",
       "      <td>chrI</td>\n",
       "      <td>9361</td>\n",
       "      <td>+</td>\n",
       "      <td>A</td>\n",
       "      <td>1</td>\n",
       "      <td>1</td>\n",
       "    </tr>\n",
       "    <tr>\n",
       "      <th>2</th>\n",
       "      <td>chrI</td>\n",
       "      <td>9368</td>\n",
       "      <td>+</td>\n",
       "      <td>G</td>\n",
       "      <td>1</td>\n",
       "      <td>1</td>\n",
       "    </tr>\n",
       "    <tr>\n",
       "      <th>3</th>\n",
       "      <td>chrI</td>\n",
       "      <td>9373</td>\n",
       "      <td>+</td>\n",
       "      <td>G</td>\n",
       "      <td>1</td>\n",
       "      <td>1</td>\n",
       "    </tr>\n",
       "    <tr>\n",
       "      <th>4</th>\n",
       "      <td>chrI</td>\n",
       "      <td>9340</td>\n",
       "      <td>+</td>\n",
       "      <td>G</td>\n",
       "      <td>0</td>\n",
       "      <td>4</td>\n",
       "    </tr>\n",
       "    <tr>\n",
       "      <th>...</th>\n",
       "      <td>...</td>\n",
       "      <td>...</td>\n",
       "      <td>...</td>\n",
       "      <td>...</td>\n",
       "      <td>...</td>\n",
       "      <td>...</td>\n",
       "    </tr>\n",
       "    <tr>\n",
       "      <th>104975</th>\n",
       "      <td>chrXVI</td>\n",
       "      <td>942797</td>\n",
       "      <td>+</td>\n",
       "      <td>A</td>\n",
       "      <td>0</td>\n",
       "      <td>1</td>\n",
       "    </tr>\n",
       "    <tr>\n",
       "      <th>104976</th>\n",
       "      <td>chrXVI</td>\n",
       "      <td>942799</td>\n",
       "      <td>+</td>\n",
       "      <td>A</td>\n",
       "      <td>0</td>\n",
       "      <td>1</td>\n",
       "    </tr>\n",
       "    <tr>\n",
       "      <th>104977</th>\n",
       "      <td>chrXVI</td>\n",
       "      <td>942803</td>\n",
       "      <td>+</td>\n",
       "      <td>T</td>\n",
       "      <td>0</td>\n",
       "      <td>2</td>\n",
       "    </tr>\n",
       "    <tr>\n",
       "      <th>104978</th>\n",
       "      <td>chrXVI</td>\n",
       "      <td>942806</td>\n",
       "      <td>+</td>\n",
       "      <td>T</td>\n",
       "      <td>0</td>\n",
       "      <td>2</td>\n",
       "    </tr>\n",
       "    <tr>\n",
       "      <th>104979</th>\n",
       "      <td>chrXVI</td>\n",
       "      <td>942807</td>\n",
       "      <td>+</td>\n",
       "      <td>A</td>\n",
       "      <td>0</td>\n",
       "      <td>93</td>\n",
       "    </tr>\n",
       "  </tbody>\n",
       "</table>\n",
       "<p>104980 rows × 6 columns</p>\n",
       "</div>"
      ],
      "text/plain": [
       "           chr     pos strand genomeTSS  capped  tags\n",
       "0         chrI    9340      +         G       1     1\n",
       "1         chrI    9361      +         A       1     1\n",
       "2         chrI    9368      +         G       1     1\n",
       "3         chrI    9373      +         G       1     1\n",
       "4         chrI    9340      +         G       0     4\n",
       "...        ...     ...    ...       ...     ...   ...\n",
       "104975  chrXVI  942797      +         A       0     1\n",
       "104976  chrXVI  942799      +         A       0     1\n",
       "104977  chrXVI  942803      +         T       0     2\n",
       "104978  chrXVI  942806      +         T       0     2\n",
       "104979  chrXVI  942807      +         A       0    93\n",
       "\n",
       "[104980 rows x 6 columns]"
      ]
     },
     "execution_count": 216,
     "metadata": {},
     "output_type": "execute_result"
    }
   ],
   "source": [
    "pos=pd.read_csv('./Data/list/p_dcp2_2.csv')\n",
    "pos.columns = [\"chr\",\"pos\",\"strand\",\"genomeTSS\",\"capped\",\"tags\"]\n",
    "\n",
    "pos"
   ]
  },
  {
   "cell_type": "code",
   "execution_count": 228,
   "metadata": {},
   "outputs": [],
   "source": [
    "###Combine positive and negative strand list\n",
    "\n",
    "import pandas as pd\n",
    "\n",
    "def combine_strand(pos,neg):\n",
    "    pos_list=pd.read_csv(pos)\n",
    "    neg_list=pd.read_csv(neg)\n",
    "    pos_list.columns = [\"chr\",\"pos\",\"strand\",\"genomeTSS\",\"capped\",\"tags\"]\n",
    "    neg_list.columns = [\"chr\",\"pos\",\"strand\",\"genomeTSS\",\"capped\",\"tags\"]\n",
    "    all=[pos_list,neg_list]\n",
    "    combine=pd.concat(all)\n",
    "    \n",
    "    return combine\n",
    "\n",
    "dhh1_1=combine_strand('./Data/list/p_wt2.csv','./Data/list/n_wt2.csv')\n",
    "outputpath='./Data/list/combine/wt2.csv'\n",
    "dhh1_1.to_csv(outputpath,sep=',',index=False,header=True)"
   ]
  },
  {
   "cell_type": "code",
   "execution_count": null,
   "metadata": {},
   "outputs": [],
   "source": []
  },
  {
   "cell_type": "code",
   "execution_count": 233,
   "metadata": {},
   "outputs": [
    {
     "name": "stdout",
     "output_type": "stream",
     "text": [
      "0.7011442131316237 0.692726285379428 0.5782392773440743 0.5345362837111031 0.49869348503998795 0.4021637771532536 0.52486480015468 0.5551505868731311 0.6435159397869586 0.6238309127231383\n"
     ]
    }
   ],
   "source": [
    "def capping_rate(filename):\n",
    "    df=pd.read_csv(filename)\n",
    "    cap=0\n",
    "    uncap=0\n",
    "    for i,row in df.iterrows():\n",
    "        capped=row[4]\n",
    "        tag=row[5]\n",
    "        if capped==1:\n",
    "            cap+=tag\n",
    "        else:\n",
    "            uncap+=tag\n",
    "    capping_rate=cap/(cap+uncap)\n",
    "    return capping_rate\n",
    "\n",
    "\n",
    "\n",
    "wt2=capping_rate('./Data/list/combine/wt2.csv')\n",
    "wt1=capping_rate('./Data/list/combine/wt1.csv')\n",
    "dcp2_1=capping_rate('./Data/list/combine/dcp2_1.csv')\n",
    "dcp2_2=capping_rate('./Data/list/combine/dcp2_2.csv')\n",
    "\n",
    "dhh1_1=capping_rate('./Data/list/combine/dhh1_1.csv')\n",
    "dhh1_2=capping_rate('./Data/list/combine/dhh1_2.csv')\n",
    "\n",
    "pat1_1=capping_rate('./Data/list/combine/pat1_1.csv')\n",
    "pat1_2=capping_rate('./Data/list/combine/pat1_2.csv')\n",
    "\n",
    "xrn1_1=capping_rate('./Data/list/combine/xrn1_1.csv')\n",
    "xrn1_2=capping_rate('./Data/list/combine/xrn1_2.csv')\n",
    "\n",
    "\n",
    "\n"
   ]
  },
  {
   "cell_type": "code",
   "execution_count": 278,
   "metadata": {},
   "outputs": [
    {
     "data": {
      "text/plain": [
       "<BarContainer object of 5 artists>"
      ]
     },
     "execution_count": 278,
     "metadata": {},
     "output_type": "execute_result"
    },
    {
     "data": {
      "image/png": "[encoded data removed]",
      "text/plain": [
       "<Figure size 432x288 with 1 Axes>"
      ]
     },
     "metadata": {
      "needs_background": "light"
     },
     "output_type": "display_data"
    }
   ],
   "source": [
    "def capping_rate(filename):\n",
    "    df=pd.read_csv(filename)\n",
    "    cap=0\n",
    "    uncap=0\n",
    "    for i,row in df.iterrows():\n",
    "        capped=row[4]\n",
    "        tag=row[5]\n",
    "        if capped==1:\n",
    "            cap+=tag\n",
    "        else:\n",
    "            uncap+=tag\n",
    "    capping_rate=cap/(cap+uncap)\n",
    "    return capping_rate\n",
    "\n",
    "\n",
    "\n",
    "wt2=capping_rate('./Data/list/combine/wt2.csv')\n",
    "wt1=capping_rate('./Data/list/combine/wt1.csv')\n",
    "dcp2_1=capping_rate('./Data/list/combine/dcp2_1.csv')\n",
    "dcp2_2=capping_rate('./Data/list/combine/dcp2_2.csv')\n",
    "\n",
    "dhh1_1=capping_rate('./Data/list/combine/dhh1_1.csv')\n",
    "dhh1_2=capping_rate('./Data/list/combine/dhh1_2.csv')\n",
    "\n",
    "pat1_1=capping_rate('./Data/list/combine/pat1_1.csv')\n",
    "pat1_2=capping_rate('./Data/list/combine/pat1_2.csv')\n",
    "\n",
    "xrn1_1=capping_rate('./Data/list/combine/xrn1_1.csv')\n",
    "xrn1_2=capping_rate('./Data/list/combine/xrn1_2.csv')\n",
    "\n",
    "wt=[wt1,wt2]\n",
    "dcp2=[dcp2_1,dcp2_2]\n",
    "dhh1=[dhh1_1,dhh1_2]\n",
    "pat1=[pat1_1,pat1_2]\n",
    "xrn1=[xrn1_1,xrn1_2]\n",
    "\n",
    "error_wt=np.std(wt, ddof = 1)\n",
    "error_dcp2=np.std(dcp2, ddof = 1)\n",
    "error_dhh1=np.std(dhh1, ddof = 1)\n",
    "error_pat1=np.std(pat1, ddof = 1)\n",
    "error_xrn1=np.std(xrn1, ddof = 1)\n",
    "\n",
    "average_wt=np.average(wt,axis=0)\n",
    "average_dcp2=np.average(dcp2, axis=0)\n",
    "average_dhh1=np.average(dhh1, axis=0)\n",
    "average_pat1=np.average(pat1, axis=0)\n",
    "average_xrn1=np.average(xrn1, axis=0)\n",
    "\n",
    "fig = plt.figure()\n",
    "ax = fig.add_axes([0,0,1,1])\n",
    "scer = ['wt','dcp2','dhh1','pat1','xrn1']\n",
    "rate = [average_wt,average_dcp2,average_dhh1,average_pat1,average_xrn1]\n",
    "std_err=[error_wt,error_dcp2,error_dhh1,error_pat1,error_xrn1]\n",
    "ax.bar(scer,rate)\n",
    "plt.bar(scer,rate,color=['b','g','yellow','orange','gray'],yerr=std_err)"
   ]
  },
  {
   "cell_type": "code",
   "execution_count": 288,
   "metadata": {},
   "outputs": [
    {
     "name": "stdout",
     "output_type": "stream",
     "text": [
      "[0.6969352492555259, 0.5563877805275887, 0.4504286310966208, 0.5400076935139055, 0.6336734262550485]\n"
     ]
    }
   ],
   "source": [
    "print(rate)"
   ]
  },
  {
   "cell_type": "code",
   "execution_count": 253,
   "metadata": {},
   "outputs": [],
   "source": [
    "###list sample(<4000)\n",
    "wt1=pd.read_csv('./Data/list/combine/wt1.csv')\n",
    "\n",
    "sample=wt1[(wt1['pos']>=6600)&(wt1['pos']<=9000)]\n",
    "outputpath='./Data/list/combine/test_sample2.csv'\n",
    "sample.to_csv(outputpath,sep=',',index=False,header=True)"
   ]
  },
  {
   "cell_type": "code",
   "execution_count": 248,
   "metadata": {},
   "outputs": [
    {
     "data": {
      "image/png": "[encoded data removed]",
      "text/plain": [
       "<Figure size 432x288 with 1 Axes>"
      ]
     },
     "metadata": {
      "needs_background": "light"
     },
     "output_type": "display_data"
    }
   ],
   "source": [
    "###Genome propotion\n",
    "import matplotlib.pyplot as plt\n",
    "import pandas as pd\n",
    "def genome_capping_rate(filename):\n",
    "    df=pd.read_csv(filename)\n",
    "    cap_A=0\n",
    "    uncap_A=0\n",
    "    cap_T=0\n",
    "    uncap_T=0\n",
    "    cap_G=0\n",
    "    uncap_G=0\n",
    "    cap_C=0\n",
    "    uncap_C=0\n",
    "    for i,row in df.iterrows():\n",
    "        genome=row[3]\n",
    "        capped=row[4]\n",
    "        tag=row[5]\n",
    "        if genome=='A':\n",
    "            if capped==1:\n",
    "                cap_A+=tag\n",
    "            else:\n",
    "                uncap_A+=tag\n",
    "        elif genome=='T':\n",
    "            if capped==1:\n",
    "                cap_T+=tag\n",
    "            else:\n",
    "                uncap_T+=tag\n",
    "        elif genome=='G':\n",
    "            if capped==1:\n",
    "                cap_G+=tag\n",
    "            else:\n",
    "                uncap_G+=tag\n",
    "        elif genome=='C':\n",
    "            if capped==1:\n",
    "                cap_C+=tag\n",
    "            else:\n",
    "                uncap_C+=tag\n",
    "    capping_rate_A=cap_A/(cap_A+uncap_A)\n",
    "    capping_rate_T=cap_T/(cap_T+uncap_T)\n",
    "    capping_rate_G=cap_G/(cap_G+uncap_G)\n",
    "    capping_rate_C=cap_C/(cap_C+uncap_C)\n",
    "    \n",
    "    fig = plt.figure()\n",
    "    ax = fig.add_axes([0,0,1,1])\n",
    "    genome = ['A','G','C','T']\n",
    "    rate = [capping_rate_A,capping_rate_G, capping_rate_C, capping_rate_T]\n",
    "    ax.bar(genome,rate)\n",
    "    \n",
    "    \n",
    "    return plt.show()\n",
    "\n",
    "\n"
   ]
  },
  {
   "cell_type": "code",
   "execution_count": 277,
   "metadata": {},
   "outputs": [
    {
     "name": "stdout",
     "output_type": "stream",
     "text": [
      "[0.7317252485430364, 0.6592403006179902, 0.5503908202580199, 0.43454035113358824] [0.5975080018797776, 0.5148719795954341, 0.4918441857995517, 0.3591129934195351] [0.4806798381166105, 0.4163998340669074, 0.40986267391589626, 0.29374567724335515] [0.5777053709375835, 0.5015715874493614, 0.47735937668347084, 0.34324508431239303] [0.6735253467664526, 0.5915020270098412, 0.5369601392273547, 0.3856712058371153] [0.0037333857064564082, 0.010899916020410193, 0.0013634896246606577, 0.0005668191546236261] [0.030018266342296245, 0.03034451277165858, 0.018808993496095865, 0.0223917533053771] [0.06966016340195627, 0.0655275998151932, 0.06554232926346384, 0.04689956337768718] [0.017083619212808595, 0.024762195906791542, 0.008556518998448465, 0.0032884063337925056] [0.007483485243868404, 0.021027712362160077, 0.010580869468397817, 0.00797113412459303]\n"
     ]
    }
   ],
   "source": [
    "###error&average\n",
    "import matplotlib.pyplot as plt\n",
    "import pandas as pd\n",
    "import numpy as np\n",
    "def genome_capping_rate(file):\n",
    "    df=pd.read_csv(file)\n",
    "    cap_A=0\n",
    "    uncap_A=0\n",
    "    cap_T=0\n",
    "    uncap_T=0\n",
    "    cap_G=0\n",
    "    uncap_G=0\n",
    "    cap_C=0\n",
    "    uncap_C=0\n",
    "    for i,row in df.iterrows():\n",
    "        genome=row[3]\n",
    "        capped=row[4]\n",
    "        tag=row[5]\n",
    "        if genome=='A':\n",
    "            if capped==1:\n",
    "                cap_A+=tag\n",
    "            else:\n",
    "                uncap_A+=tag\n",
    "        elif genome=='T':\n",
    "            if capped==1:\n",
    "                cap_T+=tag\n",
    "            else:\n",
    "                uncap_T+=tag\n",
    "        elif genome=='G':\n",
    "            if capped==1:\n",
    "                cap_G+=tag\n",
    "            else:\n",
    "                uncap_G+=tag\n",
    "        elif genome=='C':\n",
    "            if capped==1:\n",
    "                cap_C+=tag\n",
    "            else:\n",
    "                uncap_C+=tag\n",
    "    capping_rate_A=cap_A/(cap_A+uncap_A)\n",
    "    capping_rate_T=cap_T/(cap_T+uncap_T)\n",
    "    capping_rate_G=cap_G/(cap_G+uncap_G)\n",
    "    capping_rate_C=cap_C/(cap_C+uncap_C)\n",
    "    \n",
    "    rate = [capping_rate_A,capping_rate_G, capping_rate_C, capping_rate_T]\n",
    "   \n",
    "    return rate\n",
    "\n",
    "def error(file1,file2):\n",
    "\n",
    "    rate1=genome_capping_rate(file1)\n",
    "    rate2=genome_capping_rate(file2)\n",
    "    geno_a=[rate1[0],rate2[0]]\n",
    "    error_a=np.std(geno_a, ddof = 1)\n",
    "    geno_g=[rate1[1],rate2[1]]\n",
    "    error_g=np.std(geno_g, ddof = 1)\n",
    "    geno_c=[rate1[2],rate2[2]]\n",
    "    error_c=np.std(geno_c, ddof = 1)\n",
    "    geno_t=[rate1[3],rate2[3]]\n",
    "    error_t=np.std(geno_t, ddof = 1)\n",
    "    error=[error_a,error_g,error_c,error_t]\n",
    "    return error\n",
    "\n",
    "def average(file1,file2):\n",
    "    rate1=genome_capping_rate(file1)\n",
    "    rate2=genome_capping_rate(file2)\n",
    "    geno_a=np.average([rate1[0],rate2[0]],axis=0)\n",
    "    geno_g=np.average([rate1[1],rate2[1]],axis=0)\n",
    "    geno_c=np.average([rate1[2],rate2[2]],axis=0)\n",
    "    geno_t=np.average([rate1[3],rate2[3]],axis=0)\n",
    "\n",
    "    average=[geno_a,geno_g,geno_c,geno_t]\n",
    "    return average\n",
    "\n",
    "error_dcp2=error('./Data/list/combine/dcp2_1.csv','./Data/list/combine/dcp2_2.csv')\n",
    "error_dhh1=error('./Data/list/combine/dhh1_1.csv','./Data/list/combine/dhh1_2.csv')\n",
    "error_pat1=error('./Data/list/combine/pat1_1.csv','./Data/list/combine/pat1_2.csv')\n",
    "error_xrn1=error('./Data/list/combine/xrn1_1.csv','./Data/list/combine/xrn1_2.csv')\n",
    "error_wt=error('./Data/list/combine/wt1.csv','./Data/list/combine/wt2.csv')\n",
    "average_wt=average('./Data/list/combine/wt1.csv','./Data/list/combine/wt2.csv')\n",
    "average_dcp2=average('./Data/list/combine/dcp2_1.csv','./Data/list/combine/dcp2_2.csv')\n",
    "average_dhh1=average('./Data/list/combine/dhh1_1.csv','./Data/list/combine/dhh1_2.csv')\n",
    "average_pat1=average('./Data/list/combine/pat1_1.csv','./Data/list/combine/pat1_2.csv')\n",
    "average_xrn1=average('./Data/list/combine/xrn1_1.csv','./Data/list/combine/xrn1_2.csv')\n",
    "\n",
    "print(average_wt,average_dcp2,average_dhh1,average_pat1,average_xrn1,\n",
    "     error_wt,error_dcp2,error_dhh1,error_pat1,error_xrn1)\n",
    "\n"
   ]
  },
  {
   "cell_type": "code",
   "execution_count": 287,
   "metadata": {},
   "outputs": [
    {
     "data": {
      "text/html": [
       "<div>\n",
       "<style scoped>\n",
       "    .dataframe tbody tr th:only-of-type {\n",
       "        vertical-align: middle;\n",
       "    }\n",
       "\n",
       "    .dataframe tbody tr th {\n",
       "        vertical-align: top;\n",
       "    }\n",
       "\n",
       "    .dataframe thead th {\n",
       "        text-align: right;\n",
       "    }\n",
       "</style>\n",
       "<table border=\"1\" class=\"dataframe\">\n",
       "  <thead>\n",
       "    <tr style=\"text-align: right;\">\n",
       "      <th></th>\n",
       "      <th>A</th>\n",
       "      <th>G</th>\n",
       "      <th>C</th>\n",
       "      <th>T</th>\n",
       "    </tr>\n",
       "  </thead>\n",
       "  <tbody>\n",
       "    <tr>\n",
       "      <th>w</th>\n",
       "      <td>0.731725</td>\n",
       "      <td>0.659240</td>\n",
       "      <td>0.550391</td>\n",
       "      <td>0.434540</td>\n",
       "    </tr>\n",
       "    <tr>\n",
       "      <th>d</th>\n",
       "      <td>0.597508</td>\n",
       "      <td>0.514872</td>\n",
       "      <td>0.491844</td>\n",
       "      <td>0.359113</td>\n",
       "    </tr>\n",
       "    <tr>\n",
       "      <th>h</th>\n",
       "      <td>0.480680</td>\n",
       "      <td>0.416400</td>\n",
       "      <td>0.409863</td>\n",
       "      <td>0.293746</td>\n",
       "    </tr>\n",
       "    <tr>\n",
       "      <th>p</th>\n",
       "      <td>0.577705</td>\n",
       "      <td>0.501572</td>\n",
       "      <td>0.477359</td>\n",
       "      <td>0.343245</td>\n",
       "    </tr>\n",
       "    <tr>\n",
       "      <th>x</th>\n",
       "      <td>0.673525</td>\n",
       "      <td>0.591502</td>\n",
       "      <td>0.536960</td>\n",
       "      <td>0.385671</td>\n",
       "    </tr>\n",
       "    <tr>\n",
       "      <th>e</th>\n",
       "      <td>0.003733</td>\n",
       "      <td>0.010900</td>\n",
       "      <td>0.001363</td>\n",
       "      <td>0.000567</td>\n",
       "    </tr>\n",
       "    <tr>\n",
       "      <th>e</th>\n",
       "      <td>0.030018</td>\n",
       "      <td>0.030345</td>\n",
       "      <td>0.018809</td>\n",
       "      <td>0.022392</td>\n",
       "    </tr>\n",
       "    <tr>\n",
       "      <th>e</th>\n",
       "      <td>0.069660</td>\n",
       "      <td>0.065528</td>\n",
       "      <td>0.065542</td>\n",
       "      <td>0.046900</td>\n",
       "    </tr>\n",
       "    <tr>\n",
       "      <th>e</th>\n",
       "      <td>0.017084</td>\n",
       "      <td>0.024762</td>\n",
       "      <td>0.008557</td>\n",
       "      <td>0.003288</td>\n",
       "    </tr>\n",
       "    <tr>\n",
       "      <th>e</th>\n",
       "      <td>0.007483</td>\n",
       "      <td>0.021028</td>\n",
       "      <td>0.010581</td>\n",
       "      <td>0.007971</td>\n",
       "    </tr>\n",
       "  </tbody>\n",
       "</table>\n",
       "</div>"
      ],
      "text/plain": [
       "          A         G         C         T\n",
       "w  0.731725  0.659240  0.550391  0.434540\n",
       "d  0.597508  0.514872  0.491844  0.359113\n",
       "h  0.480680  0.416400  0.409863  0.293746\n",
       "p  0.577705  0.501572  0.477359  0.343245\n",
       "x  0.673525  0.591502  0.536960  0.385671\n",
       "e  0.003733  0.010900  0.001363  0.000567\n",
       "e  0.030018  0.030345  0.018809  0.022392\n",
       "e  0.069660  0.065528  0.065542  0.046900\n",
       "e  0.017084  0.024762  0.008557  0.003288\n",
       "e  0.007483  0.021028  0.010581  0.007971"
      ]
     },
     "execution_count": 287,
     "metadata": {},
     "output_type": "execute_result"
    }
   ],
   "source": [
    "genome_ave = pd.DataFrame([[0.7317252485430364, 0.6592403006179902, 0.5503908202580199, 0.43454035113358824],\n",
    "[0.5975080018797776, 0.5148719795954341, 0.4918441857995517, 0.3591129934195351],\n",
    "[0.4806798381166105, 0.4163998340669074, 0.40986267391589626, 0.29374567724335515],\n",
    "[0.5777053709375835, 0.5015715874493614, 0.47735937668347084, 0.34324508431239303],\n",
    "[0.6735253467664526, 0.5915020270098412, 0.5369601392273547, 0.3856712058371153],\n",
    "[0.0037333857064564082, 0.010899916020410193, 0.0013634896246606577, 0.0005668191546236261],\n",
    "[0.030018266342296245, 0.03034451277165858, 0.018808993496095865, 0.0223917533053771],\n",
    "[0.06966016340195627, 0.0655275998151932, 0.06554232926346384, 0.04689956337768718],\n",
    "[0.017083619212808595, 0.024762195906791542, 0.008556518998448465, 0.0032884063337925056], \n",
    "[0.007483485243868404, 0.021027712362160077, 0.010580869468397817, 0.00797113412459303]],index=list('wdhpxeeeee'), columns=list('AGCT'))\n",
    "\n",
    "genome_ave\n"
   ]
  },
  {
   "cell_type": "code",
   "execution_count": 272,
   "metadata": {},
   "outputs": [
    {
     "data": {
      "text/plain": [
       "<BarContainer object of 4 artists>"
      ]
     },
     "execution_count": 272,
     "metadata": {},
     "output_type": "execute_result"
    },
    {
     "data": {
      "image/png": "[encoded data removed]",
      "text/plain": [
       "<Figure size 432x288 with 1 Axes>"
      ]
     },
     "metadata": {
      "needs_background": "light"
     },
     "output_type": "display_data"
    }
   ],
   "source": [
    "###Bar plot\n",
    "def plot(file1,file2):\n",
    "    fig = plt.figure()\n",
    "    ax = fig.add_axes([0,0,1,1])\n",
    "    genome = ['A','G','C','T']\n",
    "    rate = average(file1,file2)\n",
    "    std_err=error(file1,file2)\n",
    "    ax.bar(genome,rate)\n",
    "    return(plt.bar(genome,rate,color=['g','yellow','orange','gray'],yerr=std_err))\n",
    "\n",
    "plot('./Data/list/combine/dcp2_1.csv','./Data/list/combine/dcp2_2.csv')"
   ]
  },
  {
   "cell_type": "code",
   "execution_count": 273,
   "metadata": {},
   "outputs": [
    {
     "data": {
      "text/plain": [
       "<BarContainer object of 4 artists>"
      ]
     },
     "execution_count": 273,
     "metadata": {},
     "output_type": "execute_result"
    },
    {
     "data": {
      "image/png": "[encoded data removed]",
      "text/plain": [
       "<Figure size 432x288 with 1 Axes>"
      ]
     },
     "metadata": {
      "needs_background": "light"
     },
     "output_type": "display_data"
    }
   ],
   "source": [
    "plot('./Data/list/combine/dhh1_1.csv','./Data/list/combine/dhh1_2.csv')"
   ]
  },
  {
   "cell_type": "code",
   "execution_count": 274,
   "metadata": {},
   "outputs": [
    {
     "data": {
      "text/plain": [
       "<BarContainer object of 4 artists>"
      ]
     },
     "execution_count": 274,
     "metadata": {},
     "output_type": "execute_result"
    },
    {
     "data": {
      "image/png": "[encoded data removed]",
      "text/plain": [
       "<Figure size 432x288 with 1 Axes>"
      ]
     },
     "metadata": {
      "needs_background": "light"
     },
     "output_type": "display_data"
    }
   ],
   "source": [
    "plot('./Data/list/combine/pat1_1.csv','./Data/list/combine/pat1_2.csv')"
   ]
  },
  {
   "cell_type": "code",
   "execution_count": 275,
   "metadata": {},
   "outputs": [
    {
     "data": {
      "text/plain": [
       "<BarContainer object of 4 artists>"
      ]
     },
     "execution_count": 275,
     "metadata": {},
     "output_type": "execute_result"
    },
    {
     "data": {
      "image/png": "[encoded data removed]",
      "text/plain": [
       "<Figure size 432x288 with 1 Axes>"
      ]
     },
     "metadata": {
      "needs_background": "light"
     },
     "output_type": "display_data"
    }
   ],
   "source": [
    "plot('./Data/list/combine/xrn1_1.csv','./Data/list/combine/xrn1_2.csv')"
   ]
  },
  {
   "cell_type": "code",
   "execution_count": 276,
   "metadata": {},
   "outputs": [
    {
     "data": {
      "text/plain": [
       "<BarContainer object of 4 artists>"
      ]
     },
     "execution_count": 276,
     "metadata": {},
     "output_type": "execute_result"
    },
    {
     "data": {
      "image/png": "[encoded data removed]",
      "text/plain": [
       "<Figure size 432x288 with 1 Axes>"
      ]
     },
     "metadata": {
      "needs_background": "light"
     },
     "output_type": "display_data"
    }
   ],
   "source": [
    "plot('./Data/list/combine/wt1.csv','./Data/list/combine/wt2.csv')"
   ]
  },
  {
   "cell_type": "code",
   "execution_count": 1,
   "metadata": {},
   "outputs": [
    {
     "name": "stderr",
     "output_type": "stream",
     "text": [
      "fatal: not a git repository (or any of the parent directories): .git\n",
      "fatal: not a git repository (or any of the parent directories): .git\n",
      "fatal: not a git repository (or any of the parent directories): .git\n",
      "fatal: not a git repository (or any of the parent directories): .git\n"
     ]
    },
    {
     "ename": "CalledProcessError",
     "evalue": "Command 'b'git pull\\ngit add Coordinate.ipynb\\ngit commit -a -m \"coordinate coding\"\\ngit push\\n'' returned non-zero exit status 128.",
     "output_type": "error",
     "traceback": [
      "\u001b[0;31m---------------------------------------------------------------------------\u001b[0m",
      "\u001b[0;31mCalledProcessError\u001b[0m                        Traceback (most recent call last)",
      "\u001b[0;32m<ipython-input-1-b7a0a6db4560>\u001b[0m in \u001b[0;36m<module>\u001b[0;34m\u001b[0m\n\u001b[0;32m----> 1\u001b[0;31m \u001b[0mget_ipython\u001b[0m\u001b[0;34m(\u001b[0m\u001b[0;34m)\u001b[0m\u001b[0;34m.\u001b[0m\u001b[0mrun_cell_magic\u001b[0m\u001b[0;34m(\u001b[0m\u001b[0;34m'bash'\u001b[0m\u001b[0;34m,\u001b[0m \u001b[0;34m''\u001b[0m\u001b[0;34m,\u001b[0m \u001b[0;34m'git pull\\ngit add Coordinate.ipynb\\ngit commit -a -m \"coordinate coding\"\\ngit push\\n'\u001b[0m\u001b[0;34m)\u001b[0m\u001b[0;34m\u001b[0m\u001b[0;34m\u001b[0m\u001b[0m\n\u001b[0m",
      "\u001b[0;32m/opt/tljh/user/lib/python3.6/site-packages/IPython/core/interactiveshell.py\u001b[0m in \u001b[0;36mrun_cell_magic\u001b[0;34m(self, magic_name, line, cell)\u001b[0m\n\u001b[1;32m   2350\u001b[0m             \u001b[0;32mwith\u001b[0m \u001b[0mself\u001b[0m\u001b[0;34m.\u001b[0m\u001b[0mbuiltin_trap\u001b[0m\u001b[0;34m:\u001b[0m\u001b[0;34m\u001b[0m\u001b[0;34m\u001b[0m\u001b[0m\n\u001b[1;32m   2351\u001b[0m                 \u001b[0margs\u001b[0m \u001b[0;34m=\u001b[0m \u001b[0;34m(\u001b[0m\u001b[0mmagic_arg_s\u001b[0m\u001b[0;34m,\u001b[0m \u001b[0mcell\u001b[0m\u001b[0;34m)\u001b[0m\u001b[0;34m\u001b[0m\u001b[0;34m\u001b[0m\u001b[0m\n\u001b[0;32m-> 2352\u001b[0;31m                 \u001b[0mresult\u001b[0m \u001b[0;34m=\u001b[0m \u001b[0mfn\u001b[0m\u001b[0;34m(\u001b[0m\u001b[0;34m*\u001b[0m\u001b[0margs\u001b[0m\u001b[0;34m,\u001b[0m \u001b[0;34m**\u001b[0m\u001b[0mkwargs\u001b[0m\u001b[0;34m)\u001b[0m\u001b[0;34m\u001b[0m\u001b[0;34m\u001b[0m\u001b[0m\n\u001b[0m\u001b[1;32m   2353\u001b[0m             \u001b[0;32mreturn\u001b[0m \u001b[0mresult\u001b[0m\u001b[0;34m\u001b[0m\u001b[0;34m\u001b[0m\u001b[0m\n\u001b[1;32m   2354\u001b[0m \u001b[0;34m\u001b[0m\u001b[0m\n",
      "\u001b[0;32m/opt/tljh/user/lib/python3.6/site-packages/IPython/core/magics/script.py\u001b[0m in \u001b[0;36mnamed_script_magic\u001b[0;34m(line, cell)\u001b[0m\n\u001b[1;32m    140\u001b[0m             \u001b[0;32melse\u001b[0m\u001b[0;34m:\u001b[0m\u001b[0;34m\u001b[0m\u001b[0;34m\u001b[0m\u001b[0m\n\u001b[1;32m    141\u001b[0m                 \u001b[0mline\u001b[0m \u001b[0;34m=\u001b[0m \u001b[0mscript\u001b[0m\u001b[0;34m\u001b[0m\u001b[0;34m\u001b[0m\u001b[0m\n\u001b[0;32m--> 142\u001b[0;31m             \u001b[0;32mreturn\u001b[0m \u001b[0mself\u001b[0m\u001b[0;34m.\u001b[0m\u001b[0mshebang\u001b[0m\u001b[0;34m(\u001b[0m\u001b[0mline\u001b[0m\u001b[0;34m,\u001b[0m \u001b[0mcell\u001b[0m\u001b[0;34m)\u001b[0m\u001b[0;34m\u001b[0m\u001b[0;34m\u001b[0m\u001b[0m\n\u001b[0m\u001b[1;32m    143\u001b[0m \u001b[0;34m\u001b[0m\u001b[0m\n\u001b[1;32m    144\u001b[0m         \u001b[0;31m# write a basic docstring:\u001b[0m\u001b[0;34m\u001b[0m\u001b[0;34m\u001b[0m\u001b[0;34m\u001b[0m\u001b[0m\n",
      "\u001b[0;32m</opt/tljh/user/lib/python3.6/site-packages/decorator.py:decorator-gen-110>\u001b[0m in \u001b[0;36mshebang\u001b[0;34m(self, line, cell)\u001b[0m\n",
      "\u001b[0;32m/opt/tljh/user/lib/python3.6/site-packages/IPython/core/magic.py\u001b[0m in \u001b[0;36m<lambda>\u001b[0;34m(f, *a, **k)\u001b[0m\n\u001b[1;32m    185\u001b[0m     \u001b[0;31m# but it's overkill for just that one bit of state.\u001b[0m\u001b[0;34m\u001b[0m\u001b[0;34m\u001b[0m\u001b[0;34m\u001b[0m\u001b[0m\n\u001b[1;32m    186\u001b[0m     \u001b[0;32mdef\u001b[0m \u001b[0mmagic_deco\u001b[0m\u001b[0;34m(\u001b[0m\u001b[0marg\u001b[0m\u001b[0;34m)\u001b[0m\u001b[0;34m:\u001b[0m\u001b[0;34m\u001b[0m\u001b[0;34m\u001b[0m\u001b[0m\n\u001b[0;32m--> 187\u001b[0;31m         \u001b[0mcall\u001b[0m \u001b[0;34m=\u001b[0m \u001b[0;32mlambda\u001b[0m \u001b[0mf\u001b[0m\u001b[0;34m,\u001b[0m \u001b[0;34m*\u001b[0m\u001b[0ma\u001b[0m\u001b[0;34m,\u001b[0m \u001b[0;34m**\u001b[0m\u001b[0mk\u001b[0m\u001b[0;34m:\u001b[0m \u001b[0mf\u001b[0m\u001b[0;34m(\u001b[0m\u001b[0;34m*\u001b[0m\u001b[0ma\u001b[0m\u001b[0;34m,\u001b[0m \u001b[0;34m**\u001b[0m\u001b[0mk\u001b[0m\u001b[0;34m)\u001b[0m\u001b[0;34m\u001b[0m\u001b[0;34m\u001b[0m\u001b[0m\n\u001b[0m\u001b[1;32m    188\u001b[0m \u001b[0;34m\u001b[0m\u001b[0m\n\u001b[1;32m    189\u001b[0m         \u001b[0;32mif\u001b[0m \u001b[0mcallable\u001b[0m\u001b[0;34m(\u001b[0m\u001b[0marg\u001b[0m\u001b[0;34m)\u001b[0m\u001b[0;34m:\u001b[0m\u001b[0;34m\u001b[0m\u001b[0;34m\u001b[0m\u001b[0m\n",
      "\u001b[0;32m/opt/tljh/user/lib/python3.6/site-packages/IPython/core/magics/script.py\u001b[0m in \u001b[0;36mshebang\u001b[0;34m(self, line, cell)\u001b[0m\n\u001b[1;32m    243\u001b[0m             \u001b[0msys\u001b[0m\u001b[0;34m.\u001b[0m\u001b[0mstderr\u001b[0m\u001b[0;34m.\u001b[0m\u001b[0mflush\u001b[0m\u001b[0;34m(\u001b[0m\u001b[0;34m)\u001b[0m\u001b[0;34m\u001b[0m\u001b[0;34m\u001b[0m\u001b[0m\n\u001b[1;32m    244\u001b[0m         \u001b[0;32mif\u001b[0m \u001b[0margs\u001b[0m\u001b[0;34m.\u001b[0m\u001b[0mraise_error\u001b[0m \u001b[0;32mand\u001b[0m \u001b[0mp\u001b[0m\u001b[0;34m.\u001b[0m\u001b[0mreturncode\u001b[0m\u001b[0;34m!=\u001b[0m\u001b[0;36m0\u001b[0m\u001b[0;34m:\u001b[0m\u001b[0;34m\u001b[0m\u001b[0;34m\u001b[0m\u001b[0m\n\u001b[0;32m--> 245\u001b[0;31m             \u001b[0;32mraise\u001b[0m \u001b[0mCalledProcessError\u001b[0m\u001b[0;34m(\u001b[0m\u001b[0mp\u001b[0m\u001b[0;34m.\u001b[0m\u001b[0mreturncode\u001b[0m\u001b[0;34m,\u001b[0m \u001b[0mcell\u001b[0m\u001b[0;34m,\u001b[0m \u001b[0moutput\u001b[0m\u001b[0;34m=\u001b[0m\u001b[0mout\u001b[0m\u001b[0;34m,\u001b[0m \u001b[0mstderr\u001b[0m\u001b[0;34m=\u001b[0m\u001b[0merr\u001b[0m\u001b[0;34m)\u001b[0m\u001b[0;34m\u001b[0m\u001b[0;34m\u001b[0m\u001b[0m\n\u001b[0m\u001b[1;32m    246\u001b[0m \u001b[0;34m\u001b[0m\u001b[0m\n\u001b[1;32m    247\u001b[0m     \u001b[0;32mdef\u001b[0m \u001b[0m_run_script\u001b[0m\u001b[0;34m(\u001b[0m\u001b[0mself\u001b[0m\u001b[0;34m,\u001b[0m \u001b[0mp\u001b[0m\u001b[0;34m,\u001b[0m \u001b[0mcell\u001b[0m\u001b[0;34m,\u001b[0m \u001b[0mto_close\u001b[0m\u001b[0;34m)\u001b[0m\u001b[0;34m:\u001b[0m\u001b[0;34m\u001b[0m\u001b[0;34m\u001b[0m\u001b[0m\n",
      "\u001b[0;31mCalledProcessError\u001b[0m: Command 'b'git pull\\ngit add Coordinate.ipynb\\ngit commit -a -m \"coordinate coding\"\\ngit push\\n'' returned non-zero exit status 128."
     ]
    }
   ],
   "source": [
    "%%bash\n",
    "git pull\n",
    "git add Coordinate.ipynb\n",
    "git commit -a -m \"coordinate coding\"\n",
    "git push"
   ]
  },
  {
   "cell_type": "code",
   "execution_count": null,
   "metadata": {},
   "outputs": [],
   "source": []
  }
 ],
 "metadata": {
  "kernelspec": {
   "display_name": "Python 3",
   "language": "python",
   "name": "python3"
  },
  "language_info": {
   "codemirror_mode": {
    "name": "ipython",
    "version": 3
   },
   "file_extension": ".py",
   "mimetype": "text/x-python",
   "name": "python",
   "nbconvert_exporter": "python",
   "pygments_lexer": "ipython3",
   "version": "3.6.7"
  }
 },
 "nbformat": 4,
 "nbformat_minor": 4
}
